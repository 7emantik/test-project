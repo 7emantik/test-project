{
 "cells": [
  {
   "cell_type": "code",
   "execution_count": 1,
   "id": "2933d40b",
   "metadata": {},
   "outputs": [
    {
     "name": "stdout",
     "output_type": "stream",
     "text": [
      "Populating the interactive namespace from numpy and matplotlib\n"
     ]
    }
   ],
   "source": [
    "import pandas as pd\n",
    "import numpy as np\n",
    "from sklearn.feature_extraction.text import CountVectorizer\n",
    "from sklearn import metrics, model_selection, linear_model, tree, ensemble, neighbors\n",
    "import pickle\n",
    "\n",
    "%pylab inline"
   ]
  },
  {
   "cell_type": "markdown",
   "id": "a3434208",
   "metadata": {},
   "source": [
    "### Preprocessing Data"
   ]
  },
  {
   "cell_type": "markdown",
   "id": "7c04f609",
   "metadata": {},
   "source": [
    "#### Train Data"
   ]
  },
  {
   "cell_type": "code",
   "execution_count": 2,
   "id": "e1724659",
   "metadata": {},
   "outputs": [
    {
     "data": {
      "text/html": [
       "<div>\n",
       "<style scoped>\n",
       "    .dataframe tbody tr th:only-of-type {\n",
       "        vertical-align: middle;\n",
       "    }\n",
       "\n",
       "    .dataframe tbody tr th {\n",
       "        vertical-align: top;\n",
       "    }\n",
       "\n",
       "    .dataframe thead th {\n",
       "        text-align: right;\n",
       "    }\n",
       "</style>\n",
       "<table border=\"1\" class=\"dataframe\">\n",
       "  <thead>\n",
       "    <tr style=\"text-align: right;\">\n",
       "      <th></th>\n",
       "      <th>is_virus</th>\n",
       "      <th>filename</th>\n",
       "      <th>libs</th>\n",
       "    </tr>\n",
       "  </thead>\n",
       "  <tbody>\n",
       "    <tr>\n",
       "      <th>0</th>\n",
       "      <td>1</td>\n",
       "      <td>VirusShare_44a578f74f71c566b2ea3702a581bf0d</td>\n",
       "      <td>kernel32.dll</td>\n",
       "    </tr>\n",
       "    <tr>\n",
       "      <th>1</th>\n",
       "      <td>1</td>\n",
       "      <td>VirusShare_852c5ccb274e5cac09cbaa0bf6ee9d76</td>\n",
       "      <td>kernel32.dll,advapi32.dll,comctl32.dll,comdlg3...</td>\n",
       "    </tr>\n",
       "    <tr>\n",
       "      <th>2</th>\n",
       "      <td>1</td>\n",
       "      <td>VirusShare_d7e9e47398dd04225d21fa3afc3acc5a</td>\n",
       "      <td>msvcrt.dll,kernel32.dll,user32.dll,advapi32.dl...</td>\n",
       "    </tr>\n",
       "    <tr>\n",
       "      <th>3</th>\n",
       "      <td>1</td>\n",
       "      <td>VirusShare_04dee410f3aef6ff2fbbf58cc6a38fbf</td>\n",
       "      <td>kernel32.dll,user32.dll,gdi32.dll,advapi32.dll...</td>\n",
       "    </tr>\n",
       "    <tr>\n",
       "      <th>4</th>\n",
       "      <td>1</td>\n",
       "      <td>VirusShare_04ce876f84647d16e6ef35a6deae629f</td>\n",
       "      <td>kernel32.dll,advapi32.dll,msvcrt.dll,user32.dl...</td>\n",
       "    </tr>\n",
       "  </tbody>\n",
       "</table>\n",
       "</div>"
      ],
      "text/plain": [
       "   is_virus                                     filename  \\\n",
       "0         1  VirusShare_44a578f74f71c566b2ea3702a581bf0d   \n",
       "1         1  VirusShare_852c5ccb274e5cac09cbaa0bf6ee9d76   \n",
       "2         1  VirusShare_d7e9e47398dd04225d21fa3afc3acc5a   \n",
       "3         1  VirusShare_04dee410f3aef6ff2fbbf58cc6a38fbf   \n",
       "4         1  VirusShare_04ce876f84647d16e6ef35a6deae629f   \n",
       "\n",
       "                                                libs  \n",
       "0                                       kernel32.dll  \n",
       "1  kernel32.dll,advapi32.dll,comctl32.dll,comdlg3...  \n",
       "2  msvcrt.dll,kernel32.dll,user32.dll,advapi32.dl...  \n",
       "3  kernel32.dll,user32.dll,gdi32.dll,advapi32.dll...  \n",
       "4  kernel32.dll,advapi32.dll,msvcrt.dll,user32.dl...  "
      ]
     },
     "execution_count": 2,
     "metadata": {},
     "output_type": "execute_result"
    }
   ],
   "source": [
    "# read the train data\n",
    "train_df = pd.read_csv('train.tsv',sep='\\t')\n",
    "train_df.head()"
   ]
  },
  {
   "cell_type": "code",
   "execution_count": 3,
   "id": "080da270",
   "metadata": {},
   "outputs": [
    {
     "data": {
      "text/plain": [
       "(16290, 3)"
      ]
     },
     "execution_count": 3,
     "metadata": {},
     "output_type": "execute_result"
    }
   ],
   "source": [
    "train_df.shape"
   ]
  },
  {
   "cell_type": "code",
   "execution_count": 4,
   "id": "b3eb146e",
   "metadata": {},
   "outputs": [
    {
     "name": "stdout",
     "output_type": "stream",
     "text": [
      "<class 'pandas.core.frame.DataFrame'>\n",
      "RangeIndex: 16290 entries, 0 to 16289\n",
      "Data columns (total 3 columns):\n",
      " #   Column    Non-Null Count  Dtype \n",
      "---  ------    --------------  ----- \n",
      " 0   is_virus  16290 non-null  int64 \n",
      " 1   filename  16290 non-null  object\n",
      " 2   libs      16290 non-null  object\n",
      "dtypes: int64(1), object(2)\n",
      "memory usage: 381.9+ KB\n"
     ]
    }
   ],
   "source": [
    "# general data information \n",
    "train_df.info()"
   ]
  },
  {
   "cell_type": "code",
   "execution_count": 5,
   "id": "30a61b00",
   "metadata": {},
   "outputs": [
    {
     "data": {
      "text/plain": [
       "False"
      ]
     },
     "execution_count": 5,
     "metadata": {},
     "output_type": "execute_result"
    }
   ],
   "source": [
    "# check for data gaps\n",
    "train_df.isnull().values.any()"
   ]
  },
  {
   "cell_type": "code",
   "execution_count": 6,
   "id": "e00f570a",
   "metadata": {},
   "outputs": [],
   "source": [
    "# convert text train data to a matrix of token counts\n",
    "libs = train_df.libs\n",
    "vectorizer = CountVectorizer(tokenizer = lambda x: x.split(','))\n",
    "V = vectorizer.fit_transform(libs)\n",
    "\n",
    "# split the data into train subsets\n",
    "X_train = V.toarray()\n",
    "y_train = train_df['is_virus'].to_numpy()"
   ]
  },
  {
   "cell_type": "markdown",
   "id": "217802fb",
   "metadata": {},
   "source": [
    "#### Validation Data"
   ]
  },
  {
   "cell_type": "code",
   "execution_count": 7,
   "id": "a0b8ef5b",
   "metadata": {},
   "outputs": [
    {
     "data": {
      "text/html": [
       "<div>\n",
       "<style scoped>\n",
       "    .dataframe tbody tr th:only-of-type {\n",
       "        vertical-align: middle;\n",
       "    }\n",
       "\n",
       "    .dataframe tbody tr th {\n",
       "        vertical-align: top;\n",
       "    }\n",
       "\n",
       "    .dataframe thead th {\n",
       "        text-align: right;\n",
       "    }\n",
       "</style>\n",
       "<table border=\"1\" class=\"dataframe\">\n",
       "  <thead>\n",
       "    <tr style=\"text-align: right;\">\n",
       "      <th></th>\n",
       "      <th>is_virus</th>\n",
       "      <th>filename</th>\n",
       "      <th>libs</th>\n",
       "    </tr>\n",
       "  </thead>\n",
       "  <tbody>\n",
       "    <tr>\n",
       "      <th>0</th>\n",
       "      <td>1</td>\n",
       "      <td>VirusShare_44a578f74f71c566b2ea3702a581bf0d</td>\n",
       "      <td>kernel32.dll</td>\n",
       "    </tr>\n",
       "    <tr>\n",
       "      <th>1</th>\n",
       "      <td>1</td>\n",
       "      <td>VirusShare_852c5ccb274e5cac09cbaa0bf6ee9d76</td>\n",
       "      <td>kernel32.dll,advapi32.dll,comctl32.dll,comdlg3...</td>\n",
       "    </tr>\n",
       "    <tr>\n",
       "      <th>2</th>\n",
       "      <td>1</td>\n",
       "      <td>VirusShare_d7e9e47398dd04225d21fa3afc3acc5a</td>\n",
       "      <td>msvcrt.dll,kernel32.dll,user32.dll,advapi32.dl...</td>\n",
       "    </tr>\n",
       "    <tr>\n",
       "      <th>3</th>\n",
       "      <td>1</td>\n",
       "      <td>VirusShare_04dee410f3aef6ff2fbbf58cc6a38fbf</td>\n",
       "      <td>kernel32.dll,user32.dll,gdi32.dll,advapi32.dll...</td>\n",
       "    </tr>\n",
       "    <tr>\n",
       "      <th>4</th>\n",
       "      <td>1</td>\n",
       "      <td>VirusShare_04ce876f84647d16e6ef35a6deae629f</td>\n",
       "      <td>kernel32.dll,advapi32.dll,msvcrt.dll,user32.dl...</td>\n",
       "    </tr>\n",
       "  </tbody>\n",
       "</table>\n",
       "</div>"
      ],
      "text/plain": [
       "   is_virus                                     filename  \\\n",
       "0         1  VirusShare_44a578f74f71c566b2ea3702a581bf0d   \n",
       "1         1  VirusShare_852c5ccb274e5cac09cbaa0bf6ee9d76   \n",
       "2         1  VirusShare_d7e9e47398dd04225d21fa3afc3acc5a   \n",
       "3         1  VirusShare_04dee410f3aef6ff2fbbf58cc6a38fbf   \n",
       "4         1  VirusShare_04ce876f84647d16e6ef35a6deae629f   \n",
       "\n",
       "                                                libs  \n",
       "0                                       kernel32.dll  \n",
       "1  kernel32.dll,advapi32.dll,comctl32.dll,comdlg3...  \n",
       "2  msvcrt.dll,kernel32.dll,user32.dll,advapi32.dl...  \n",
       "3  kernel32.dll,user32.dll,gdi32.dll,advapi32.dll...  \n",
       "4  kernel32.dll,advapi32.dll,msvcrt.dll,user32.dl...  "
      ]
     },
     "execution_count": 7,
     "metadata": {},
     "output_type": "execute_result"
    }
   ],
   "source": [
    "# read the validation data\n",
    "val_df = pd.read_csv('train.tsv',sep='\\t')\n",
    "val_df.head()"
   ]
  },
  {
   "cell_type": "code",
   "execution_count": 8,
   "id": "10f14aaa",
   "metadata": {},
   "outputs": [
    {
     "data": {
      "text/plain": [
       "(16290, 3)"
      ]
     },
     "execution_count": 8,
     "metadata": {},
     "output_type": "execute_result"
    }
   ],
   "source": [
    "val_df.shape"
   ]
  },
  {
   "cell_type": "code",
   "execution_count": 9,
   "id": "f21c2ef2",
   "metadata": {},
   "outputs": [
    {
     "name": "stdout",
     "output_type": "stream",
     "text": [
      "<class 'pandas.core.frame.DataFrame'>\n",
      "RangeIndex: 16290 entries, 0 to 16289\n",
      "Data columns (total 3 columns):\n",
      " #   Column    Non-Null Count  Dtype \n",
      "---  ------    --------------  ----- \n",
      " 0   is_virus  16290 non-null  int64 \n",
      " 1   filename  16290 non-null  object\n",
      " 2   libs      16290 non-null  object\n",
      "dtypes: int64(1), object(2)\n",
      "memory usage: 381.9+ KB\n"
     ]
    }
   ],
   "source": [
    "# general data information \n",
    "val_df.info()"
   ]
  },
  {
   "cell_type": "code",
   "execution_count": 10,
   "id": "66fc6629",
   "metadata": {},
   "outputs": [
    {
     "data": {
      "text/plain": [
       "False"
      ]
     },
     "execution_count": 10,
     "metadata": {},
     "output_type": "execute_result"
    }
   ],
   "source": [
    "# check for data gaps\n",
    "val_df.isnull().values.any()"
   ]
  },
  {
   "cell_type": "code",
   "execution_count": 11,
   "id": "7aba4dfe",
   "metadata": {},
   "outputs": [],
   "source": [
    "# convert text validation data to a matrix of token counts\n",
    "libs = val_df.libs\n",
    "V = vectorizer.transform(libs)\n",
    "\n",
    "# split the data into validation subsets\n",
    "X_val = V.toarray()\n",
    "y_val = val_df['is_virus'].to_numpy()"
   ]
  },
  {
   "cell_type": "markdown",
   "id": "c7b21150",
   "metadata": {},
   "source": [
    "#### Test Data"
   ]
  },
  {
   "cell_type": "code",
   "execution_count": 12,
   "id": "b9717f02",
   "metadata": {},
   "outputs": [
    {
     "data": {
      "text/html": [
       "<div>\n",
       "<style scoped>\n",
       "    .dataframe tbody tr th:only-of-type {\n",
       "        vertical-align: middle;\n",
       "    }\n",
       "\n",
       "    .dataframe tbody tr th {\n",
       "        vertical-align: top;\n",
       "    }\n",
       "\n",
       "    .dataframe thead th {\n",
       "        text-align: right;\n",
       "    }\n",
       "</style>\n",
       "<table border=\"1\" class=\"dataframe\">\n",
       "  <thead>\n",
       "    <tr style=\"text-align: right;\">\n",
       "      <th></th>\n",
       "      <th>libs</th>\n",
       "    </tr>\n",
       "  </thead>\n",
       "  <tbody>\n",
       "    <tr>\n",
       "      <th>0</th>\n",
       "      <td>user32.dll,kernel32.dll</td>\n",
       "    </tr>\n",
       "    <tr>\n",
       "      <th>1</th>\n",
       "      <td>cygwin1.dll,cygiconv-2.dll,cygintl-8.dll,cygz....</td>\n",
       "    </tr>\n",
       "    <tr>\n",
       "      <th>2</th>\n",
       "      <td>winmm.dll,tapi32.dll,ws2_32.dll,setupapi.dll,v...</td>\n",
       "    </tr>\n",
       "    <tr>\n",
       "      <th>3</th>\n",
       "      <td>kernel32.dll</td>\n",
       "    </tr>\n",
       "    <tr>\n",
       "      <th>4</th>\n",
       "      <td>kernel32.dll</td>\n",
       "    </tr>\n",
       "  </tbody>\n",
       "</table>\n",
       "</div>"
      ],
      "text/plain": [
       "                                                libs\n",
       "0                            user32.dll,kernel32.dll\n",
       "1  cygwin1.dll,cygiconv-2.dll,cygintl-8.dll,cygz....\n",
       "2  winmm.dll,tapi32.dll,ws2_32.dll,setupapi.dll,v...\n",
       "3                                       kernel32.dll\n",
       "4                                       kernel32.dll"
      ]
     },
     "execution_count": 12,
     "metadata": {},
     "output_type": "execute_result"
    }
   ],
   "source": [
    "# read test data\n",
    "test_df = pd.read_csv('test.tsv',sep='\\t')\n",
    "test_df.head()"
   ]
  },
  {
   "cell_type": "code",
   "execution_count": 13,
   "id": "1664c099",
   "metadata": {},
   "outputs": [],
   "source": [
    "# convert text test data to a matrix of token counts\n",
    "libs = test_df.libs\n",
    "\n",
    "# select test subset\n",
    "V = vectorizer.transform(libs)\n",
    "X_test = V.toarray()"
   ]
  },
  {
   "cell_type": "markdown",
   "id": "a32acd33",
   "metadata": {},
   "source": [
    "### Exploratory data analysis"
   ]
  },
  {
   "cell_type": "code",
   "execution_count": 14,
   "id": "1a5756b9",
   "metadata": {},
   "outputs": [
    {
     "name": "stdout",
     "output_type": "stream",
     "text": [
      "Train data\n",
      "Class 1: 66.7%\n",
      "Class 0: 33.3%\n",
      "\n",
      "Validation data\n",
      "Class 1: 66.7%\n",
      "Class 0: 33.3%\n"
     ]
    },
    {
     "data": {
      "image/png": "[encoded data removed]",
      "text/plain": [
       "<Figure size 1152x432 with 2 Axes>"
      ]
     },
     "metadata": {
      "needs_background": "light"
     },
     "output_type": "display_data"
    }
   ],
   "source": [
    "# check the class balance\n",
    "plt.figure(figsize = (16, 6))\n",
    "plt.subplot(121)\n",
    "pylab.hist(y_train, color = 'slateblue')\n",
    "pylab.title('Train sample class balance')\n",
    "plt.subplot(122)\n",
    "pylab.hist(y_val, color = 'turquoise')\n",
    "pylab.title('Validation sample class balance')\n",
    "\n",
    "print('Train data')\n",
    "print('Class 1: {:.1%}'.format(len(y_train[y_train==1])/len(y_train)))\n",
    "print('Class 0: {:.1%}'.format(len(y_train[y_train==0])/len(y_train)))\n",
    "print()\n",
    "\n",
    "print('Validation data')\n",
    "print('Class 1: {:.1%}'.format(len(y_val[y_val==1])/len(y_val)))\n",
    "print('Class 0: {:.1%}'.format(len(y_val[y_val==0])/len(y_val)))"
   ]
  },
  {
   "cell_type": "markdown",
   "id": "101ec1e9",
   "metadata": {},
   "source": [
    "### Model Building"
   ]
  },
  {
   "cell_type": "code",
   "execution_count": 15,
   "id": "bab17873",
   "metadata": {},
   "outputs": [],
   "source": [
    "# the function accepts an array of classifiers as input\n",
    "# returns an array of class labels probability predictions \n",
    "# and an array of class labels predictions"
   ]
  },
  {
   "cell_type": "code",
   "execution_count": 16,
   "id": "7af45b9a",
   "metadata": {},
   "outputs": [],
   "source": [
    "classifier_1 = linear_model.LogisticRegression(max_iter=1000).fit(X_train,y_train)\n",
    "classifier_2 = tree.DecisionTreeClassifier().fit(X_train,y_train)\n",
    "classifier_3 = neighbors.KNeighborsClassifier().fit(X_train,y_train)\n",
    "classifier_4 = linear_model.SGDClassifier(loss='log',max_iter=1000).fit(X_train,y_train)\n",
    "\n",
    "classifiers = [classifier_1,classifier_2,classifier_3,classifier_4]\n",
    "description = ['Logistic Regression Classifier','Decision Tree Classifier','KNeighbours Classifier','SGD Classifier']"
   ]
  },
  {
   "cell_type": "markdown",
   "id": "db145168",
   "metadata": {},
   "source": [
    "### Model Performance"
   ]
  },
  {
   "cell_type": "code",
   "execution_count": 17,
   "id": "b85d9e0a",
   "metadata": {},
   "outputs": [],
   "source": [
    "#creating validation proba prediction and prediction arrays\n",
    "\n",
    "p_predict = []\n",
    "predict = []\n",
    "\n",
    "for classifier in classifiers:\n",
    "    \n",
    "    p_predicted = classifier.predict_proba(X_val)\n",
    "    p_predict.append(p_predicted)\n",
    "    \n",
    "    predicted = classifier.predict(X_val)\n",
    "    predict.append(predicted)"
   ]
  },
  {
   "cell_type": "code",
   "execution_count": 18,
   "id": "0be527dc",
   "metadata": {},
   "outputs": [
    {
     "data": {
      "text/plain": [
       "Text(0.5, 1.0, 'Classifiers in presicion-recall axises (validation data)')"
      ]
     },
     "execution_count": 18,
     "metadata": {},
     "output_type": "execute_result"
    },
    {
     "data": {
      "image/png": "[encoded data removed]",
      "text/plain": [
       "<Figure size 576x504 with 1 Axes>"
      ]
     },
     "metadata": {
      "needs_background": "light"
     },
     "output_type": "display_data"
    }
   ],
   "source": [
    "# calculate precision, recall and f-metric\n",
    "# plot the dots in the precision-recall axises\n",
    "\n",
    "precisions = []\n",
    "recalls = []\n",
    "f_scores = []\n",
    "\n",
    "for predicted in predict:\n",
    "    f_score = metrics.f1_score(y_val,predicted)\n",
    "    f_scores.append(f_score)\n",
    "    \n",
    "    precision = metrics.precision_score(y_val, predicted)\n",
    "    precisions.append(precision)\n",
    "    \n",
    "    recall = metrics.recall_score(y_val, predicted)\n",
    "    recalls.append(recall)\n",
    "\n",
    "plt.figure(figsize=(8,7))\n",
    "pyplot.grid()\n",
    "for precision,recall,descr in zip(precisions,recalls,description):\n",
    "    pylab.scatter(recall, precision, label=descr)\n",
    "    \n",
    "plt.xlabel('recall')\n",
    "plt.ylabel('precision')\n",
    "plt.legend(loc='upper left')\n",
    "plt.title('Classifiers in presicion-recall axises (validation data)')"
   ]
  },
  {
   "cell_type": "code",
   "execution_count": 19,
   "id": "8bec6d81",
   "metadata": {},
   "outputs": [
    {
     "data": {
      "text/plain": [
       "Text(0.5, 1.0, 'PR curves (validation data)')"
      ]
     },
     "execution_count": 19,
     "metadata": {},
     "output_type": "execute_result"
    },
    {
     "data": {
      "image/png": "[encoded data removed]",
      "text/plain": [
       "<Figure size 576x504 with 1 Axes>"
      ]
     },
     "metadata": {
      "needs_background": "light"
     },
     "output_type": "display_data"
    }
   ],
   "source": [
    "# plot the precision-recall curve given the classifiers and training data\n",
    "# calculate pr-scores for the classifiers\n",
    "\n",
    "plt.figure(figsize=(8,7))\n",
    "pyplot.grid()\n",
    "\n",
    "for p_predicted, descr in zip(p_predict,description):\n",
    "    pr, rec, thr = metrics.precision_recall_curve(y_train, p_predicted[:,1])\n",
    "    pr_score = metrics.average_precision_score(y_train, p_predicted[:,1])\n",
    "    pylab.plot(rec,pr, label=descr + ' (pr_score={:.2f})'.format(pr_score))\n",
    "    \n",
    "plt.xlabel(\"false positive rate\")\n",
    "plt.ylabel(\"true positive rate\")\n",
    "plt.legend(loc=\"lower left\")\n",
    "plt.title('PR curves (validation data)')"
   ]
  },
  {
   "cell_type": "code",
   "execution_count": 20,
   "id": "013ef5ff",
   "metadata": {},
   "outputs": [
    {
     "data": {
      "text/plain": [
       "Text(0.5, 1.0, 'ROC curves (validation data)')"
      ]
     },
     "execution_count": 20,
     "metadata": {},
     "output_type": "execute_result"
    },
    {
     "data": {
      "image/png": "[encoded data removed]",
      "text/plain": [
       "<Figure size 576x504 with 1 Axes>"
      ]
     },
     "metadata": {
      "needs_background": "light"
     },
     "output_type": "display_data"
    }
   ],
   "source": [
    "# plot the roc curve given the classifiers and training data\n",
    "# calculate roc-scores for the classifiers\n",
    "\n",
    "plt.figure(figsize=(8,7))\n",
    "pyplot.grid()\n",
    "\n",
    "roc_scores = []\n",
    "for p_predicted,descr in zip(p_predict,description):\n",
    "    fpr, tpr, thr = metrics.roc_curve(y_train, p_predicted[:,1])\n",
    "    roc_score = metrics.roc_auc_score(y_train, p_predicted[:,1])\n",
    "    roc_scores.append(roc_score)\n",
    "    pylab.plot(fpr, tpr, label=descr + ' (roc_score={:.2f})'.format(roc_score))\n",
    "\n",
    "    \n",
    "# mark the best threshold on the best classifier plot\n",
    "\n",
    "idx = argmax(roc_scores)\n",
    "fpr, tpr, thr = metrics.roc_curve(y_train, p_predict[idx][:,1])\n",
    "gmeans = sqrt(tpr * (1-fpr))\n",
    "ix = argmax(gmeans)\n",
    "best_thr = thr[ix]\n",
    "\n",
    "pyplot.scatter(fpr[ix], tpr[ix], marker='o', color='black',label='Best threshold={:.2f}'.format(thr[ix]))\n",
    "    \n",
    "pylab.plot([0, 1], [0, 1], '--', color = 'grey', label = 'random')\n",
    "plt.xlabel(\"false positive rate\")\n",
    "plt.ylabel(\"true positive rate\")\n",
    "plt.legend(loc=\"lower right\")\n",
    "plt.title('ROC curves (validation data)')"
   ]
  },
  {
   "cell_type": "code",
   "execution_count": 21,
   "id": "2eb20c28",
   "metadata": {},
   "outputs": [
    {
     "name": "stdout",
     "output_type": "stream",
     "text": [
      "F-score of Logistic Regression Classifier = 0.914\n",
      "F-score of Decision Tree Classifier = 0.951\n",
      "F-score of KNeighbours Classifier = 0.924\n",
      "F-score of SGD Classifier = 0.911\n"
     ]
    }
   ],
   "source": [
    "for score, descr in zip(f_scores,description):\n",
    "    print('F-score of ' + descr + ' = {:.3f}'.format(score))"
   ]
  },
  {
   "cell_type": "code",
   "execution_count": 22,
   "id": "31517cdd",
   "metadata": {},
   "outputs": [
    {
     "name": "stdout",
     "output_type": "stream",
     "text": [
      "Best classifier is the Decision Tree Classifier\n"
     ]
    }
   ],
   "source": [
    "# save classifier with the highest f-score as a pickle string\n",
    "idx = np.argmax(f_scores)\n",
    "best_classifier = classifiers[idx]\n",
    "print('Best classifier is the',description[idx])\n",
    "pickle.dump(best_classifier, open('Classifier.joblib', 'wb'))"
   ]
  },
  {
   "cell_type": "code",
   "execution_count": 23,
   "id": "3c80e0f8",
   "metadata": {},
   "outputs": [
    {
     "name": "stdout",
     "output_type": "stream",
     "text": [
      "              precision    recall  f1-score   support\n",
      "\n",
      "           0       0.97      0.82      0.89      5430\n",
      "           1       0.92      0.99      0.95     10860\n",
      "\n",
      "    accuracy                           0.93     16290\n",
      "   macro avg       0.94      0.90      0.92     16290\n",
      "weighted avg       0.94      0.93      0.93     16290\n",
      "\n"
     ]
    }
   ],
   "source": [
    "# main classification metrics\n",
    "print(metrics.classification_report(y_val, best_classifier.predict(X_val)))"
   ]
  },
  {
   "cell_type": "code",
   "execution_count": 24,
   "id": "b8e85bb4",
   "metadata": {},
   "outputs": [
    {
     "name": "stdout",
     "output_type": "stream",
     "text": [
      "[[ 4450   980]\n",
      " [  121 10739]]\n"
     ]
    }
   ],
   "source": [
    "# confusion matrix\n",
    "print(metrics.confusion_matrix(y_val, best_classifier.predict(X_val)))"
   ]
  },
  {
   "cell_type": "code",
   "execution_count": 25,
   "id": "6ed9a34e",
   "metadata": {},
   "outputs": [],
   "source": [
    "tn, fp, fn, tp = metrics.confusion_matrix(y_val, best_classifier.predict(X_val)).ravel()\n",
    "accuracy = metrics.accuracy_score(y_val, best_classifier.predict(X_val))\n",
    "precision = metrics.precision_score(y_val, best_classifier.predict(X_val))\n",
    "recall = metrics.recall_score(y_val, best_classifier.predict(X_val))\n",
    "f1 = metrics.f1_score(y_val, best_classifier.predict(X_val))"
   ]
  },
  {
   "cell_type": "code",
   "execution_count": 26,
   "id": "194ff01c",
   "metadata": {},
   "outputs": [],
   "source": [
    "lines = []\n",
    "lines.append('True positive: {}'.format(tp))\n",
    "lines.append('False positive {}'.format(fp))\n",
    "lines.append('False negative: {}'.format(fn))\n",
    "lines.append('True negative: {}'.format(tn))\n",
    "lines.append('Accuracy: {:.4}'.format(accuracy))\n",
    "lines.append('Precision: {:.4}'.format(precision))\n",
    "lines.append('Recall: {:.4}'.format(recall))\n",
    "lines.append('F1: {:.4}'.format(f1))"
   ]
  },
  {
   "cell_type": "code",
   "execution_count": 27,
   "id": "3d59f896",
   "metadata": {},
   "outputs": [],
   "source": [
    "with open('validation.txt','w') as file:\n",
    "    file.writelines(line + '\\n' for line in lines)"
   ]
  },
  {
   "cell_type": "markdown",
   "id": "da60786b",
   "metadata": {},
   "source": [
    "### Model Predictions"
   ]
  },
  {
   "cell_type": "code",
   "execution_count": 28,
   "id": "ef2b96f3",
   "metadata": {},
   "outputs": [],
   "source": [
    "# make a prediction based on the test sample\n",
    "test_prediction = best_classifier.predict(X_test)"
   ]
  },
  {
   "cell_type": "code",
   "execution_count": 30,
   "id": "c3098434",
   "metadata": {},
   "outputs": [],
   "source": [
    "# save the prediction as a file\n",
    "with open ('prediction.txt','w') as file:\n",
    "    file.writelines('prediction' + '\\n')\n",
    "    file.writelines(str(i) + '\\n' for i in test_prediction)"
   ]
  },
  {
   "cell_type": "markdown",
   "id": "9ed762dc",
   "metadata": {},
   "source": [
    "### Explanation of Model Predictions"
   ]
  },
  {
   "cell_type": "code",
   "execution_count": 31,
   "id": "099d244f",
   "metadata": {},
   "outputs": [],
   "source": [
    "# probability prediction for test data\n",
    "predict_proba = best_classifier.predict_proba(X_test)[:,1]\n",
    "\n",
    "# an array of indexes where probability exceeds the threshold\n",
    "proba_indexes = np.where(predict_proba > best_thr)"
   ]
  },
  {
   "cell_type": "code",
   "execution_count": 32,
   "id": "9d2ddc5d",
   "metadata": {},
   "outputs": [],
   "source": [
    "lines = []\n",
    "for index in range(X_test.shape[0]):\n",
    "    if index in proba_indexes[0]:\n",
    "        line = 'virus ({:.2%} probability)'.format(predict_proba[index])\n",
    "        lines.append(line)\n",
    "    else:\n",
    "        lines.append('')"
   ]
  },
  {
   "cell_type": "code",
   "execution_count": 33,
   "id": "83738bb9",
   "metadata": {},
   "outputs": [],
   "source": [
    "# create an explanation file\n",
    "with open ('explain.txt','w') as file:\n",
    "    file.writelines(line + '\\n' for line in lines)"
   ]
  }
 ],
 "metadata": {
  "kernelspec": {
   "display_name": "Python 3",
   "language": "python",
   "name": "python3"
  },
  "language_info": {
   "codemirror_mode": {
    "name": "ipython",
    "version": 3
   },
   "file_extension": ".py",
   "mimetype": "text/x-python",
   "name": "python",
   "nbconvert_exporter": "python",
   "pygments_lexer": "ipython3",
   "version": "3.8.10"
  }
 },
 "nbformat": 4,
 "nbformat_minor": 5
}
