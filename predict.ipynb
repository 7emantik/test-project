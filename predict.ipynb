{
 "cells": [
  {
   "cell_type": "code",
   "execution_count": 14,
   "id": "d2d88628",
   "metadata": {},
   "outputs": [],
   "source": [
    "import pandas as pd\n",
    "import numpy as np\n",
    "from sklearn.feature_extraction.text import CountVectorizer\n",
    "from sklearn import model_selection, linear_model, metrics\n",
    "import pickle"
   ]
  },
  {
   "cell_type": "code",
   "execution_count": 15,
   "id": "32fdbe49",
   "metadata": {},
   "outputs": [
    {
     "data": {
      "text/html": [
       "<div>\n",
       "<style scoped>\n",
       "    .dataframe tbody tr th:only-of-type {\n",
       "        vertical-align: middle;\n",
       "    }\n",
       "\n",
       "    .dataframe tbody tr th {\n",
       "        vertical-align: top;\n",
       "    }\n",
       "\n",
       "    .dataframe thead th {\n",
       "        text-align: right;\n",
       "    }\n",
       "</style>\n",
       "<table border=\"1\" class=\"dataframe\">\n",
       "  <thead>\n",
       "    <tr style=\"text-align: right;\">\n",
       "      <th></th>\n",
       "      <th>libs</th>\n",
       "    </tr>\n",
       "  </thead>\n",
       "  <tbody>\n",
       "    <tr>\n",
       "      <th>0</th>\n",
       "      <td>user32.dll,kernel32.dll</td>\n",
       "    </tr>\n",
       "    <tr>\n",
       "      <th>1</th>\n",
       "      <td>cygwin1.dll,cygiconv-2.dll,cygintl-8.dll,cygz....</td>\n",
       "    </tr>\n",
       "    <tr>\n",
       "      <th>2</th>\n",
       "      <td>winmm.dll,tapi32.dll,ws2_32.dll,setupapi.dll,v...</td>\n",
       "    </tr>\n",
       "    <tr>\n",
       "      <th>3</th>\n",
       "      <td>kernel32.dll</td>\n",
       "    </tr>\n",
       "    <tr>\n",
       "      <th>4</th>\n",
       "      <td>kernel32.dll</td>\n",
       "    </tr>\n",
       "  </tbody>\n",
       "</table>\n",
       "</div>"
      ],
      "text/plain": [
       "                                                libs\n",
       "0                            user32.dll,kernel32.dll\n",
       "1  cygwin1.dll,cygiconv-2.dll,cygintl-8.dll,cygz....\n",
       "2  winmm.dll,tapi32.dll,ws2_32.dll,setupapi.dll,v...\n",
       "3                                       kernel32.dll\n",
       "4                                       kernel32.dll"
      ]
     },
     "execution_count": 15,
     "metadata": {},
     "output_type": "execute_result"
    }
   ],
   "source": [
    "# read the data\n",
    "df = pd.read_csv('test.tsv',sep='\\t')\n",
    "libs = df.libs\n",
    "df.head()"
   ]
  },
  {
   "cell_type": "code",
   "execution_count": 16,
   "id": "a8bc7c2d",
   "metadata": {},
   "outputs": [
    {
     "data": {
      "text/plain": [
       "(1200, 1)"
      ]
     },
     "execution_count": 16,
     "metadata": {},
     "output_type": "execute_result"
    }
   ],
   "source": [
    "df.shape"
   ]
  },
  {
   "cell_type": "code",
   "execution_count": 28,
   "id": "643541b1",
   "metadata": {},
   "outputs": [],
   "source": [
    "# предобработка данных\n",
    "# преобразуем исходные данные в матрицу\n",
    "df_train = pd.read_csv('train.tsv',sep='\\t')\n",
    "libs_train = df_train.libs\n",
    "vectorizer = CountVectorizer(tokenizer = lambda x: x.split(','))\n",
    "vectorizer.fit_transform(libs_train)\n",
    "\n",
    "V = vectorizer.transform(libs)\n",
    "X_test = V.toarray()"
   ]
  },
  {
   "cell_type": "code",
   "execution_count": 18,
   "id": "9080e53e",
   "metadata": {},
   "outputs": [
    {
     "data": {
      "text/plain": [
       "array([1, 0, 0, 1, 1, 0, 0, 1, 1, 1], dtype=int64)"
      ]
     },
     "execution_count": 18,
     "metadata": {},
     "output_type": "execute_result"
    }
   ],
   "source": [
    "# построение прогноза для тестовой выборки\n",
    "\n",
    "classifier = pickle.load(open('Classifier.joblib', 'rb'))\n",
    "prediction_test = classifier.predict(X_test)\n",
    "prediction_test[:10]"
   ]
  },
  {
   "cell_type": "code",
   "execution_count": 19,
   "id": "eaa503ae",
   "metadata": {},
   "outputs": [],
   "source": [
    "with open ('prediction.txt','w') as file:\n",
    "    file.writelines('prediction' + '\\n')\n",
    "    file.writelines(str(i) + '\\n' for i in prediction_test)"
   ]
  },
  {
   "cell_type": "markdown",
   "id": "95ebf917",
   "metadata": {},
   "source": [
    "## Дополнительное задание"
   ]
  },
  {
   "cell_type": "code",
   "execution_count": 47,
   "id": "cd079c65",
   "metadata": {},
   "outputs": [],
   "source": [
    "# пояснение к построенному прогнозу модели\n",
    "with open ('threshold.txt','r') as file:\n",
    "    thr = float(file.read())\n",
    "predict_proba = classifier.predict_proba(X_test)[:,1]\n",
    "ind_predict_proba = np.where(predict_proba > thr)"
   ]
  },
  {
   "cell_type": "code",
   "execution_count": 52,
   "id": "cbd44b39",
   "metadata": {},
   "outputs": [],
   "source": [
    "lines = []\n",
    "for i in range(X_test.shape[0]):\n",
    "    if i in ind_predict_proba[0]:\n",
    "        line = 'with a {:.2%} probability, it is a virus'.format(predict_proba[i])\n",
    "        lines.append(line)\n",
    "    else:\n",
    "        lines.append('')"
   ]
  },
  {
   "cell_type": "code",
   "execution_count": 53,
   "id": "a6cfe9bd",
   "metadata": {},
   "outputs": [],
   "source": [
    "with open ('explain.txt','w') as file:\n",
    "    file.writelines(line + '\\n' for line in lines)"
   ]
  }
 ],
 "metadata": {
  "kernelspec": {
   "display_name": "Python 3",
   "language": "python",
   "name": "python3"
  },
  "language_info": {
   "codemirror_mode": {
    "name": "ipython",
    "version": 3
   },
   "file_extension": ".py",
   "mimetype": "text/x-python",
   "name": "python",
   "nbconvert_exporter": "python",
   "pygments_lexer": "ipython3",
   "version": "3.8.10"
  }
 },
 "nbformat": 4,
 "nbformat_minor": 5
}
