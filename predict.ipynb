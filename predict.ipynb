{
 "cells": [
  {
   "cell_type": "code",
   "execution_count": 4,
   "id": "d2d88628",
   "metadata": {},
   "outputs": [],
   "source": [
    "import pandas as pd\n",
    "import numpy as np\n",
    "from sklearn.feature_extraction.text import CountVectorizer\n",
    "from sklearn import model_selection, linear_model, metrics\n",
    "import pickle"
   ]
  },
  {
   "cell_type": "markdown",
   "id": "00afe40a",
   "metadata": {},
   "source": [
    "### Predict class labels for test samples"
   ]
  },
  {
   "cell_type": "code",
   "execution_count": 5,
   "id": "32fdbe49",
   "metadata": {},
   "outputs": [
    {
     "data": {
      "text/html": [
       "<div>\n",
       "<style scoped>\n",
       "    .dataframe tbody tr th:only-of-type {\n",
       "        vertical-align: middle;\n",
       "    }\n",
       "\n",
       "    .dataframe tbody tr th {\n",
       "        vertical-align: top;\n",
       "    }\n",
       "\n",
       "    .dataframe thead th {\n",
       "        text-align: right;\n",
       "    }\n",
       "</style>\n",
       "<table border=\"1\" class=\"dataframe\">\n",
       "  <thead>\n",
       "    <tr style=\"text-align: right;\">\n",
       "      <th></th>\n",
       "      <th>libs</th>\n",
       "    </tr>\n",
       "  </thead>\n",
       "  <tbody>\n",
       "    <tr>\n",
       "      <th>0</th>\n",
       "      <td>user32.dll,kernel32.dll</td>\n",
       "    </tr>\n",
       "    <tr>\n",
       "      <th>1</th>\n",
       "      <td>cygwin1.dll,cygiconv-2.dll,cygintl-8.dll,cygz....</td>\n",
       "    </tr>\n",
       "    <tr>\n",
       "      <th>2</th>\n",
       "      <td>winmm.dll,tapi32.dll,ws2_32.dll,setupapi.dll,v...</td>\n",
       "    </tr>\n",
       "    <tr>\n",
       "      <th>3</th>\n",
       "      <td>kernel32.dll</td>\n",
       "    </tr>\n",
       "    <tr>\n",
       "      <th>4</th>\n",
       "      <td>kernel32.dll</td>\n",
       "    </tr>\n",
       "  </tbody>\n",
       "</table>\n",
       "</div>"
      ],
      "text/plain": [
       "                                                libs\n",
       "0                            user32.dll,kernel32.dll\n",
       "1  cygwin1.dll,cygiconv-2.dll,cygintl-8.dll,cygz....\n",
       "2  winmm.dll,tapi32.dll,ws2_32.dll,setupapi.dll,v...\n",
       "3                                       kernel32.dll\n",
       "4                                       kernel32.dll"
      ]
     },
     "execution_count": 5,
     "metadata": {},
     "output_type": "execute_result"
    }
   ],
   "source": [
    "# read test data\n",
    "df = pd.read_csv('test.tsv',sep='\\t')\n",
    "libs = df.libs\n",
    "df.head()"
   ]
  },
  {
   "cell_type": "code",
   "execution_count": 6,
   "id": "a8bc7c2d",
   "metadata": {},
   "outputs": [
    {
     "data": {
      "text/plain": [
       "(1200, 1)"
      ]
     },
     "execution_count": 6,
     "metadata": {},
     "output_type": "execute_result"
    }
   ],
   "source": [
    "df.shape"
   ]
  },
  {
   "cell_type": "code",
   "execution_count": 7,
   "id": "643541b1",
   "metadata": {},
   "outputs": [],
   "source": [
    "# convert text data to a matrix of token counts\n",
    "df_train = pd.read_csv('train.tsv',sep='\\t')\n",
    "libs_train = df_train.libs\n",
    "vectorizer = CountVectorizer(tokenizer = lambda x: x.split(','))\n",
    "vectorizer.fit_transform(libs_train)\n",
    "\n",
    "# select test subset\n",
    "V = vectorizer.transform(libs)\n",
    "X_test = V.toarray()"
   ]
  },
  {
   "cell_type": "code",
   "execution_count": 8,
   "id": "9080e53e",
   "metadata": {},
   "outputs": [],
   "source": [
    "# load the classifier and make a prediction based on test sample\n",
    "\n",
    "classifier = pickle.load(open('Classifier.joblib', 'rb'))\n",
    "prediction = classifier.predict(X_test)"
   ]
  },
  {
   "cell_type": "code",
   "execution_count": 9,
   "id": "eaa503ae",
   "metadata": {},
   "outputs": [],
   "source": [
    "# save the prediction as a file\n",
    "with open ('prediction.txt','w') as file:\n",
    "    file.writelines('prediction' + '\\n')\n",
    "    file.writelines(str(i) + '\\n' for i in prediction)"
   ]
  },
  {
   "cell_type": "markdown",
   "id": "95ebf917",
   "metadata": {},
   "source": [
    "### Prediction's explanation"
   ]
  },
  {
   "cell_type": "code",
   "execution_count": 31,
   "id": "cd079c65",
   "metadata": {},
   "outputs": [],
   "source": [
    "# read the threshold\n",
    "with open ('threshold.txt','r') as file:\n",
    "    thr = float(file.read())"
   ]
  },
  {
   "cell_type": "code",
   "execution_count": null,
   "id": "531df036",
   "metadata": {},
   "outputs": [],
   "source": [
    "# probability prediction for test data\n",
    "predict_proba = classifier.predict_proba(X_test)[:,1]\n",
    "\n",
    "# an array of indexes where probability exceeds the threshold\n",
    "proba_indexes = np.where(predict_proba > thr)"
   ]
  },
  {
   "cell_type": "code",
   "execution_count": 35,
   "id": "cbd44b39",
   "metadata": {},
   "outputs": [
    {
     "name": "stdout",
     "output_type": "stream",
     "text": [
      "virus (92.43% probability)\n",
      "\n",
      "\n",
      "virus (90.04% probability)\n",
      "virus (90.04% probability)\n",
      "\n",
      "\n",
      "virus (100.00% probability)\n",
      "virus (71.58% probability)\n",
      "virus (100.00% probability)\n"
     ]
    }
   ],
   "source": [
    "lines = []\n",
    "for index in range(X_test.shape[0]):\n",
    "    if index in proba_indexes[0]:\n",
    "        line = 'virus ({:.2%} probability)'.format(predict_proba[index])\n",
    "        lines.append(line)\n",
    "    else:\n",
    "        lines.append('')\n",
    "\n",
    "for line in lines[:10]:\n",
    "    print(line)"
   ]
  },
  {
   "cell_type": "code",
   "execution_count": 36,
   "id": "a6cfe9bd",
   "metadata": {},
   "outputs": [],
   "source": [
    "# create an explanation file\n",
    "with open ('explain.txt','w') as file:\n",
    "    file.writelines(line + '\\n' for line in lines)"
   ]
  }
 ],
 "metadata": {
  "kernelspec": {
   "display_name": "Python 3",
   "language": "python",
   "name": "python3"
  },
  "language_info": {
   "codemirror_mode": {
    "name": "ipython",
    "version": 3
   },
   "file_extension": ".py",
   "mimetype": "text/x-python",
   "name": "python",
   "nbconvert_exporter": "python",
   "pygments_lexer": "ipython3",
   "version": "3.8.10"
  }
 },
 "nbformat": 4,
 "nbformat_minor": 5
}
