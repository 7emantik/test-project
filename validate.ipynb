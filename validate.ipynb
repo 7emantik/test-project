{
 "cells": [
  {
   "cell_type": "code",
   "execution_count": 13,
   "id": "3d326d91",
   "metadata": {},
   "outputs": [],
   "source": [
    "import pandas as pd\n",
    "import numpy as np\n",
    "from sklearn.feature_extraction.text import CountVectorizer\n",
    "from sklearn import model_selection, linear_model, metrics\n",
    "from joblib import load"
   ]
  },
  {
   "cell_type": "code",
   "execution_count": 14,
   "id": "91a1add5",
   "metadata": {},
   "outputs": [
    {
     "data": {
      "text/html": [
       "<div>\n",
       "<style scoped>\n",
       "    .dataframe tbody tr th:only-of-type {\n",
       "        vertical-align: middle;\n",
       "    }\n",
       "\n",
       "    .dataframe tbody tr th {\n",
       "        vertical-align: top;\n",
       "    }\n",
       "\n",
       "    .dataframe thead th {\n",
       "        text-align: right;\n",
       "    }\n",
       "</style>\n",
       "<table border=\"1\" class=\"dataframe\">\n",
       "  <thead>\n",
       "    <tr style=\"text-align: right;\">\n",
       "      <th></th>\n",
       "      <th>is_virus</th>\n",
       "      <th>filename</th>\n",
       "      <th>libs</th>\n",
       "    </tr>\n",
       "  </thead>\n",
       "  <tbody>\n",
       "    <tr>\n",
       "      <th>0</th>\n",
       "      <td>1</td>\n",
       "      <td>2020-02-17T21_09_26+00_00_107385.exe</td>\n",
       "      <td>kernel32.dll,advapi32.dll,comctl32.dll,gdi32.d...</td>\n",
       "    </tr>\n",
       "    <tr>\n",
       "      <th>1</th>\n",
       "      <td>0</td>\n",
       "      <td>tac.exe</td>\n",
       "      <td>msys-intl-8.dll,msys-2.0.dll,kernel32.dll</td>\n",
       "    </tr>\n",
       "    <tr>\n",
       "      <th>2</th>\n",
       "      <td>1</td>\n",
       "      <td>VirusShare_eabeaf414d1b87659870918dc7f03f8a</td>\n",
       "      <td>kernel32.dll</td>\n",
       "    </tr>\n",
       "    <tr>\n",
       "      <th>3</th>\n",
       "      <td>1</td>\n",
       "      <td>VirusShare_f528efa5b5ba6643b7eb9cf4264d37e4</td>\n",
       "      <td>kernel32.dll</td>\n",
       "    </tr>\n",
       "    <tr>\n",
       "      <th>4</th>\n",
       "      <td>1</td>\n",
       "      <td>2019-08-14T00_52_23+00_00_60898.exe</td>\n",
       "      <td>msvbvm60.dll</td>\n",
       "    </tr>\n",
       "  </tbody>\n",
       "</table>\n",
       "</div>"
      ],
      "text/plain": [
       "   is_virus                                     filename  \\\n",
       "0         1         2020-02-17T21_09_26+00_00_107385.exe   \n",
       "1         0                                      tac.exe   \n",
       "2         1  VirusShare_eabeaf414d1b87659870918dc7f03f8a   \n",
       "3         1  VirusShare_f528efa5b5ba6643b7eb9cf4264d37e4   \n",
       "4         1          2019-08-14T00_52_23+00_00_60898.exe   \n",
       "\n",
       "                                                libs  \n",
       "0  kernel32.dll,advapi32.dll,comctl32.dll,gdi32.d...  \n",
       "1          msys-intl-8.dll,msys-2.0.dll,kernel32.dll  \n",
       "2                                       kernel32.dll  \n",
       "3                                       kernel32.dll  \n",
       "4                                       msvbvm60.dll  "
      ]
     },
     "execution_count": 14,
     "metadata": {},
     "output_type": "execute_result"
    }
   ],
   "source": [
    "# чтение данных: валидационная выборка\n",
    "df = pd.read_csv('val.tsv',sep='\\t')\n",
    "libs = df.libs\n",
    "df.head()"
   ]
  },
  {
   "cell_type": "code",
   "execution_count": 15,
   "id": "a666f6a5",
   "metadata": {},
   "outputs": [
    {
     "name": "stdout",
     "output_type": "stream",
     "text": [
      "(1200, 3)\n"
     ]
    }
   ],
   "source": [
    "# размер валидационной выборки\n",
    "df.shape"
   ]
  },
  {
   "cell_type": "code",
   "execution_count": 16,
   "id": "362dfdbd",
   "metadata": {},
   "outputs": [
    {
     "data": {
      "text/plain": [
       "False"
      ]
     },
     "execution_count": 16,
     "metadata": {},
     "output_type": "execute_result"
    }
   ],
   "source": [
    "# наличие пропусков в данных\n",
    "df.isnull().values.any()"
   ]
  },
  {
   "cell_type": "code",
   "execution_count": 22,
   "id": "1687511c",
   "metadata": {},
   "outputs": [],
   "source": [
    "# предобработка данных\n",
    "# преобразуем исходные данные в матрицу\n",
    "\n",
    "df_train = pd.read_csv('train.tsv',sep='\\t')\n",
    "libs_train = df_train.libs\n",
    "vectorizer = CountVectorizer(tokenizer = lambda x: x.split(','))\n",
    "vectorizer.fit_transform(libs_train)\n",
    "\n",
    "V = vectorizer.transform(libs)\n",
    "X_val = V.toarray()\n",
    "y_val = df['is_virus'].to_numpy()"
   ]
  },
  {
   "cell_type": "code",
   "execution_count": 7,
   "id": "b16305f3",
   "metadata": {
    "scrolled": true
   },
   "outputs": [
    {
     "name": "stdout",
     "output_type": "stream",
     "text": [
      "              precision    recall  f1-score   support\n",
      "\n",
      "           0       0.91      0.69      0.78       400\n",
      "           1       0.86      0.97      0.91       800\n",
      "\n",
      "    accuracy                           0.87      1200\n",
      "   macro avg       0.89      0.83      0.85      1200\n",
      "weighted avg       0.88      0.87      0.87      1200\n",
      "\n"
     ]
    }
   ],
   "source": [
    "# оценка качества модели на валидационной выборке\n",
    "classifier = load('SGD_Model.joblib')\n",
    "prediction_val = classifier.predict(X_val)\n",
    "metrics.classification_report(y_val, prediction_val)"
   ]
  },
  {
   "cell_type": "code",
   "execution_count": 8,
   "id": "4bf90013",
   "metadata": {},
   "outputs": [
    {
     "name": "stdout",
     "output_type": "stream",
     "text": [
      "[[275 125]\n",
      " [ 26 774]]\n"
     ]
    }
   ],
   "source": [
    "# вывод матрицы ошибок валидационной выборки\n",
    "metrics.confusion_matrix(y_val, prediction_val)"
   ]
  },
  {
   "cell_type": "code",
   "execution_count": 9,
   "id": "3ca44c50",
   "metadata": {},
   "outputs": [],
   "source": [
    "tn, fp, fn, tp = metrics.confusion_matrix(y_val, classifier.predict(X_val)).ravel()\n",
    "accuracy = metrics.accuracy_score(y_val, classifier.predict(X_val))\n",
    "precision = metrics.precision_score(y_val, classifier.predict(X_val))\n",
    "recall = metrics.recall_score(y_val, classifier.predict(X_val))\n",
    "f1 = metrics.f1_score(y_val, classifier.predict(X_val))"
   ]
  },
  {
   "cell_type": "code",
   "execution_count": 10,
   "id": "5b33c315",
   "metadata": {},
   "outputs": [],
   "source": [
    "lines = []\n",
    "lines.append('True positive: {}'.format(tp))\n",
    "lines.append('False positive {}'.format(fp))\n",
    "lines.append('False negative: {}'.format(fn))\n",
    "lines.append('True negative: {}'.format(tn))\n",
    "lines.append('Accuracy: {:.4}'.format(accuracy))\n",
    "lines.append('Precision: {:.4}'.format(precision))\n",
    "lines.append('Recall: {:.4}'.format(recall))\n",
    "lines.append('F1: {:.4}'.format(f1))"
   ]
  },
  {
   "cell_type": "code",
   "execution_count": 11,
   "id": "8128927c",
   "metadata": {},
   "outputs": [],
   "source": [
    "with open('validation.txt','w') as file:\n",
    "    file.writelines(line + '\\n' for line in lines)"
   ]
  }
 ],
 "metadata": {
  "kernelspec": {
   "display_name": "Python 3",
   "language": "python",
   "name": "python3"
  },
  "language_info": {
   "codemirror_mode": {
    "name": "ipython",
    "version": 3
   },
   "file_extension": ".py",
   "mimetype": "text/x-python",
   "name": "python",
   "nbconvert_exporter": "python",
   "pygments_lexer": "ipython3",
   "version": "3.8.10"
  }
 },
 "nbformat": 4,
 "nbformat_minor": 5
}
