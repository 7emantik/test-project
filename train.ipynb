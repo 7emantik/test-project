{
 "cells": [
  {
   "cell_type": "code",
   "execution_count": 1,
   "id": "2933d40b",
   "metadata": {},
   "outputs": [
    {
     "name": "stdout",
     "output_type": "stream",
     "text": [
      "Populating the interactive namespace from numpy and matplotlib\n"
     ]
    }
   ],
   "source": [
    "import pandas as pd\n",
    "import numpy as np\n",
    "from sklearn.feature_extraction.text import CountVectorizer\n",
    "from sklearn import metrics, model_selection, linear_model, tree, ensemble, neighbors\n",
    "import pickle\n",
    "\n",
    "%pylab inline"
   ]
  },
  {
   "cell_type": "code",
   "execution_count": 2,
   "id": "e1724659",
   "metadata": {},
   "outputs": [
    {
     "data": {
      "text/html": [
       "<div>\n",
       "<style scoped>\n",
       "    .dataframe tbody tr th:only-of-type {\n",
       "        vertical-align: middle;\n",
       "    }\n",
       "\n",
       "    .dataframe tbody tr th {\n",
       "        vertical-align: top;\n",
       "    }\n",
       "\n",
       "    .dataframe thead th {\n",
       "        text-align: right;\n",
       "    }\n",
       "</style>\n",
       "<table border=\"1\" class=\"dataframe\">\n",
       "  <thead>\n",
       "    <tr style=\"text-align: right;\">\n",
       "      <th></th>\n",
       "      <th>is_virus</th>\n",
       "      <th>filename</th>\n",
       "      <th>libs</th>\n",
       "    </tr>\n",
       "  </thead>\n",
       "  <tbody>\n",
       "    <tr>\n",
       "      <th>0</th>\n",
       "      <td>1</td>\n",
       "      <td>VirusShare_44a578f74f71c566b2ea3702a581bf0d</td>\n",
       "      <td>kernel32.dll</td>\n",
       "    </tr>\n",
       "    <tr>\n",
       "      <th>1</th>\n",
       "      <td>1</td>\n",
       "      <td>VirusShare_852c5ccb274e5cac09cbaa0bf6ee9d76</td>\n",
       "      <td>kernel32.dll,advapi32.dll,comctl32.dll,comdlg3...</td>\n",
       "    </tr>\n",
       "    <tr>\n",
       "      <th>2</th>\n",
       "      <td>1</td>\n",
       "      <td>VirusShare_d7e9e47398dd04225d21fa3afc3acc5a</td>\n",
       "      <td>msvcrt.dll,kernel32.dll,user32.dll,advapi32.dl...</td>\n",
       "    </tr>\n",
       "    <tr>\n",
       "      <th>3</th>\n",
       "      <td>1</td>\n",
       "      <td>VirusShare_04dee410f3aef6ff2fbbf58cc6a38fbf</td>\n",
       "      <td>kernel32.dll,user32.dll,gdi32.dll,advapi32.dll...</td>\n",
       "    </tr>\n",
       "    <tr>\n",
       "      <th>4</th>\n",
       "      <td>1</td>\n",
       "      <td>VirusShare_04ce876f84647d16e6ef35a6deae629f</td>\n",
       "      <td>kernel32.dll,advapi32.dll,msvcrt.dll,user32.dl...</td>\n",
       "    </tr>\n",
       "  </tbody>\n",
       "</table>\n",
       "</div>"
      ],
      "text/plain": [
       "   is_virus                                     filename  \\\n",
       "0         1  VirusShare_44a578f74f71c566b2ea3702a581bf0d   \n",
       "1         1  VirusShare_852c5ccb274e5cac09cbaa0bf6ee9d76   \n",
       "2         1  VirusShare_d7e9e47398dd04225d21fa3afc3acc5a   \n",
       "3         1  VirusShare_04dee410f3aef6ff2fbbf58cc6a38fbf   \n",
       "4         1  VirusShare_04ce876f84647d16e6ef35a6deae629f   \n",
       "\n",
       "                                                libs  \n",
       "0                                       kernel32.dll  \n",
       "1  kernel32.dll,advapi32.dll,comctl32.dll,comdlg3...  \n",
       "2  msvcrt.dll,kernel32.dll,user32.dll,advapi32.dl...  \n",
       "3  kernel32.dll,user32.dll,gdi32.dll,advapi32.dll...  \n",
       "4  kernel32.dll,advapi32.dll,msvcrt.dll,user32.dl...  "
      ]
     },
     "execution_count": 2,
     "metadata": {},
     "output_type": "execute_result"
    }
   ],
   "source": [
    "# Reading the data\n",
    "df = pd.read_csv('train.tsv',sep='\\t')\n",
    "libs = df.libs\n",
    "df.head()"
   ]
  },
  {
   "cell_type": "code",
   "execution_count": 3,
   "id": "080da270",
   "metadata": {},
   "outputs": [
    {
     "data": {
      "text/plain": [
       "(16290, 3)"
      ]
     },
     "execution_count": 3,
     "metadata": {},
     "output_type": "execute_result"
    }
   ],
   "source": [
    "# Data shape\n",
    "df.shape"
   ]
  },
  {
   "cell_type": "code",
   "execution_count": 4,
   "id": "30a61b00",
   "metadata": {},
   "outputs": [
    {
     "data": {
      "text/plain": [
       "False"
      ]
     },
     "execution_count": 4,
     "metadata": {},
     "output_type": "execute_result"
    }
   ],
   "source": [
    "# Checking for data gaps\n",
    "df.isnull().values.any()"
   ]
  },
  {
   "cell_type": "code",
   "execution_count": 5,
   "id": "97d0bc73",
   "metadata": {},
   "outputs": [
    {
     "name": "stdout",
     "output_type": "stream",
     "text": [
      "<class 'pandas.core.frame.DataFrame'>\n",
      "RangeIndex: 16290 entries, 0 to 16289\n",
      "Data columns (total 3 columns):\n",
      " #   Column    Non-Null Count  Dtype \n",
      "---  ------    --------------  ----- \n",
      " 0   is_virus  16290 non-null  int64 \n",
      " 1   filename  16290 non-null  object\n",
      " 2   libs      16290 non-null  object\n",
      "dtypes: int64(1), object(2)\n",
      "memory usage: 381.9+ KB\n"
     ]
    }
   ],
   "source": [
    "# General data information \n",
    "df.info()"
   ]
  },
  {
   "cell_type": "markdown",
   "id": "40c981aa",
   "metadata": {},
   "source": [
    "### Data preprocessing"
   ]
  },
  {
   "cell_type": "code",
   "execution_count": 6,
   "id": "e00f570a",
   "metadata": {},
   "outputs": [],
   "source": [
    "# Converting training data\n",
    "vectorizer = CountVectorizer(tokenizer = lambda x: x.split(','))\n",
    "V = vectorizer.fit_transform(libs)\n",
    "X_train = V.toarray()\n",
    "y_train = df['is_virus'].to_numpy()"
   ]
  },
  {
   "cell_type": "code",
   "execution_count": 7,
   "id": "1a5756b9",
   "metadata": {},
   "outputs": [
    {
     "name": "stdout",
     "output_type": "stream",
     "text": [
      "Class 1: 66.7%\n",
      "Class 0: 33.3%\n"
     ]
    },
    {
     "data": {
      "image/png": "[encoded data removed]",
      "text/plain": [
       "<Figure size 432x288 with 1 Axes>"
      ]
     },
     "metadata": {
      "needs_background": "light"
     },
     "output_type": "display_data"
    }
   ],
   "source": [
    "# Class balance\n",
    "pylab.hist(y_train, color = 'g')\n",
    "pylab.title('Class balance')\n",
    "\n",
    "print('Class 1: {:.1%}'.format(len(y_train[y_train==1])/len(y_train)))\n",
    "print('Class 0: {:.1%}'.format(len(y_train[y_train==0])/len(y_train)))"
   ]
  },
  {
   "cell_type": "markdown",
   "id": "101ec1e9",
   "metadata": {},
   "source": [
    "## Classification Models"
   ]
  },
  {
   "cell_type": "code",
   "execution_count": 8,
   "id": "bab17873",
   "metadata": {},
   "outputs": [],
   "source": [
    "def predict_values(estimators):\n",
    "    p_predict = []\n",
    "    predict = []\n",
    "    for estimator in estimators:\n",
    "        estimator.fit(X_train,y_train)\n",
    "        p_predicted = estimator.predict_proba(X_train)\n",
    "        p_predict.append(p_predicted)\n",
    "        predicted = estimator.predict(X_train)\n",
    "        predict.append(predicted)\n",
    "    return p_predict, predict"
   ]
  },
  {
   "cell_type": "code",
   "execution_count": 9,
   "id": "7af45b9a",
   "metadata": {},
   "outputs": [],
   "source": [
    "estimator_1 = linear_model.LogisticRegression()\n",
    "estimator_2 = tree.DecisionTreeClassifier()\n",
    "estimator_3 = neighbors.KNeighborsClassifier()\n",
    "estimator_4 = linear_model.SGDClassifier(loss='log')\n",
    "\n",
    "estimators = [estimator_1,estimator_2,estimator_3,estimator_4]\n",
    "description = ['Logistic Regression','Decision Tree','KNeighbours','SGDClassifier']"
   ]
  },
  {
   "cell_type": "code",
   "execution_count": null,
   "id": "03ee9b93",
   "metadata": {},
   "outputs": [
    {
     "name": "stderr",
     "output_type": "stream",
     "text": [
      "C:\\Users\\user\\anaconda3\\envs\\p38\\lib\\site-packages\\sklearn\\linear_model\\_logistic.py:814: ConvergenceWarning: lbfgs failed to converge (status=1):\n",
      "STOP: TOTAL NO. of ITERATIONS REACHED LIMIT.\n",
      "\n",
      "Increase the number of iterations (max_iter) or scale the data as shown in:\n",
      "    https://scikit-learn.org/stable/modules/preprocessing.html\n",
      "Please also refer to the documentation for alternative solver options:\n",
      "    https://scikit-learn.org/stable/modules/linear_model.html#logistic-regression\n",
      "  n_iter_i = _check_optimize_result(\n"
     ]
    }
   ],
   "source": [
    "p_predict = predict_values(estimators)[0]\n",
    "predict = predict_values(estimators)[1]"
   ]
  },
  {
   "cell_type": "markdown",
   "id": "db145168",
   "metadata": {},
   "source": [
    "## Сравнение метрик качества классификаторов"
   ]
  },
  {
   "cell_type": "code",
   "execution_count": null,
   "id": "0be527dc",
   "metadata": {},
   "outputs": [],
   "source": [
    "plt.figure(figsize=(7, 7))\n",
    "pyplot.grid()\n",
    "\n",
    "precisions = []\n",
    "recalls = []\n",
    "f1_scores = []\n",
    "\n",
    "for p_predicted, predicted, descr in zip(p_predict,predict,description):\n",
    "    f1_score = metrics.f1_score(y_train,predicted)\n",
    "    f1_scores.append(f1_score)\n",
    "    precision = metrics.precision_score(y_train, predicted)\n",
    "    recall = metrics.recall_score(y_train, predicted)\n",
    "    precisions.append(precision)\n",
    "    recalls.append(recall)\n",
    "    \n",
    "for precision, recall,f1_score,descr in zip(precisions,recalls,f1_scores,description):\n",
    "    pylab.plot(recall, precision, 'o', label=descr + ' (f1={:.2f})'.format(f1_score))\n",
    "    \n",
    "plt.xlabel(\"recall\")\n",
    "plt.ylabel(\"precision\")\n",
    "plt.legend(loc=\"upper left\")"
   ]
  },
  {
   "cell_type": "code",
   "execution_count": null,
   "id": "8bec6d81",
   "metadata": {},
   "outputs": [],
   "source": [
    "plt.figure(figsize=(7, 7))\n",
    "pyplot.grid()\n",
    "\n",
    "for predicted, descr in zip(p_predict,description):\n",
    "    pr, rec, thr = metrics.precision_recall_curve(y_train, predicted[:,1])\n",
    "    pr_score = metrics.average_precision_score(y_train, predicted[:,1])\n",
    "    pylab.plot(rec,pr, label=descr + ' (pr_score={:.2f})'.format(pr_score))\n",
    "    \n",
    "plt.xlabel(\"false positive rate\")\n",
    "plt.ylabel(\"true positive rate\")\n",
    "plt.legend(loc=\"lower left\")\n",
    "plt.title('PR curves')"
   ]
  },
  {
   "cell_type": "code",
   "execution_count": null,
   "id": "013ef5ff",
   "metadata": {},
   "outputs": [],
   "source": [
    "plt.figure(figsize=(7, 7))\n",
    "pyplot.grid()\n",
    "\n",
    "roc_scores = []\n",
    "for p_predicted, predicted, descr in zip(p_predict,predict,description):\n",
    "    fpr, tpr, thr = metrics.roc_curve(y_train, p_predicted[:,1])\n",
    "    roc_score = metrics.roc_auc_score(y_train, p_predicted[:,1])\n",
    "    roc_scores.append(roc_score)\n",
    "    pylab.plot(fpr, tpr, label=descr + ' (roc_score={:.2f})'.format(roc_score))\n",
    "\n",
    "idx = argmax(roc_scores)\n",
    "fpr, tpr, thr = metrics.roc_curve(y_train, p_predict[idx][:,1])\n",
    "# calculate the g-mean for each threshold\n",
    "gmeans = sqrt(tpr * (1-fpr))\n",
    "# locate the index of the largest g-mean\n",
    "ix = argmax(gmeans)\n",
    "best_thr = thr[ix]best_thr\n",
    "pyplot.scatter(fpr[ix], tpr[ix], marker='o', color='black',label='Best threshold={:.2f}'.format(thr[ix]))\n",
    "    \n",
    "pylab.plot([0, 1], [0, 1], '--', color = 'grey', label = 'random')\n",
    "plt.xlabel(\"false positive rate\")\n",
    "plt.ylabel(\"true positive rate\")\n",
    "plt.legend(loc=\"lower right\")\n",
    "plt.title('ROC curves')"
   ]
  },
  {
   "cell_type": "code",
   "execution_count": null,
   "id": "2a397d5d",
   "metadata": {},
   "outputs": [],
   "source": [
    "with open('threshold.txt','w') as file:\n",
    "    file.write(str(best_thr))"
   ]
  },
  {
   "cell_type": "code",
   "execution_count": null,
   "id": "31517cdd",
   "metadata": {},
   "outputs": [],
   "source": [
    "idx = np.argmax(f1_scores)\n",
    "best_estimator = estimators[idx]\n",
    "print('Best estimator is',description[idx])"
   ]
  },
  {
   "cell_type": "code",
   "execution_count": null,
   "id": "bf976aee",
   "metadata": {},
   "outputs": [],
   "source": [
    "# Save the trained model as a pickle string\n",
    "pickle.dump(best_estimator, open('Classifier.joblib', 'wb'))"
   ]
  }
 ],
 "metadata": {
  "kernelspec": {
   "display_name": "Python 3",
   "language": "python",
   "name": "python3"
  },
  "language_info": {
   "codemirror_mode": {
    "name": "ipython",
    "version": 3
   },
   "file_extension": ".py",
   "mimetype": "text/x-python",
   "name": "python",
   "nbconvert_exporter": "python",
   "pygments_lexer": "ipython3",
   "version": "3.8.10"
  }
 },
 "nbformat": 4,
 "nbformat_minor": 5
}
