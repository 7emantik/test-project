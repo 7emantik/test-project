{
 "cells": [
  {
   "cell_type": "code",
   "execution_count": 1,
   "id": "2933d40b",
   "metadata": {},
   "outputs": [],
   "source": [
    "import pandas as pd\n",
    "import numpy as np\n",
    "from sklearn.feature_extraction.text import CountVectorizer\n",
    "from sklearn import model_selection, linear_model, metrics\n",
    "from sklearn.model_selection import RepeatedStratifiedKFold, RandomizedSearchCV\n",
    "from joblib import dump"
   ]
  },
  {
   "cell_type": "code",
   "execution_count": 2,
   "id": "e1724659",
   "metadata": {},
   "outputs": [
    {
     "data": {
      "text/html": [
       "<div>\n",
       "<style scoped>\n",
       "    .dataframe tbody tr th:only-of-type {\n",
       "        vertical-align: middle;\n",
       "    }\n",
       "\n",
       "    .dataframe tbody tr th {\n",
       "        vertical-align: top;\n",
       "    }\n",
       "\n",
       "    .dataframe thead th {\n",
       "        text-align: right;\n",
       "    }\n",
       "</style>\n",
       "<table border=\"1\" class=\"dataframe\">\n",
       "  <thead>\n",
       "    <tr style=\"text-align: right;\">\n",
       "      <th></th>\n",
       "      <th>is_virus</th>\n",
       "      <th>filename</th>\n",
       "      <th>libs</th>\n",
       "    </tr>\n",
       "  </thead>\n",
       "  <tbody>\n",
       "    <tr>\n",
       "      <th>0</th>\n",
       "      <td>1</td>\n",
       "      <td>VirusShare_44a578f74f71c566b2ea3702a581bf0d</td>\n",
       "      <td>kernel32.dll</td>\n",
       "    </tr>\n",
       "    <tr>\n",
       "      <th>1</th>\n",
       "      <td>1</td>\n",
       "      <td>VirusShare_852c5ccb274e5cac09cbaa0bf6ee9d76</td>\n",
       "      <td>kernel32.dll,advapi32.dll,comctl32.dll,comdlg3...</td>\n",
       "    </tr>\n",
       "    <tr>\n",
       "      <th>2</th>\n",
       "      <td>1</td>\n",
       "      <td>VirusShare_d7e9e47398dd04225d21fa3afc3acc5a</td>\n",
       "      <td>msvcrt.dll,kernel32.dll,user32.dll,advapi32.dl...</td>\n",
       "    </tr>\n",
       "    <tr>\n",
       "      <th>3</th>\n",
       "      <td>1</td>\n",
       "      <td>VirusShare_04dee410f3aef6ff2fbbf58cc6a38fbf</td>\n",
       "      <td>kernel32.dll,user32.dll,gdi32.dll,advapi32.dll...</td>\n",
       "    </tr>\n",
       "    <tr>\n",
       "      <th>4</th>\n",
       "      <td>1</td>\n",
       "      <td>VirusShare_04ce876f84647d16e6ef35a6deae629f</td>\n",
       "      <td>kernel32.dll,advapi32.dll,msvcrt.dll,user32.dl...</td>\n",
       "    </tr>\n",
       "  </tbody>\n",
       "</table>\n",
       "</div>"
      ],
      "text/plain": [
       "   is_virus                                     filename  \\\n",
       "0         1  VirusShare_44a578f74f71c566b2ea3702a581bf0d   \n",
       "1         1  VirusShare_852c5ccb274e5cac09cbaa0bf6ee9d76   \n",
       "2         1  VirusShare_d7e9e47398dd04225d21fa3afc3acc5a   \n",
       "3         1  VirusShare_04dee410f3aef6ff2fbbf58cc6a38fbf   \n",
       "4         1  VirusShare_04ce876f84647d16e6ef35a6deae629f   \n",
       "\n",
       "                                                libs  \n",
       "0                                       kernel32.dll  \n",
       "1  kernel32.dll,advapi32.dll,comctl32.dll,comdlg3...  \n",
       "2  msvcrt.dll,kernel32.dll,user32.dll,advapi32.dl...  \n",
       "3  kernel32.dll,user32.dll,gdi32.dll,advapi32.dll...  \n",
       "4  kernel32.dll,advapi32.dll,msvcrt.dll,user32.dl...  "
      ]
     },
     "execution_count": 2,
     "metadata": {},
     "output_type": "execute_result"
    }
   ],
   "source": [
    "# чтение данных\n",
    "df = pd.read_csv('train.tsv',sep='\\t')\n",
    "libs = df.libs\n",
    "df.head()"
   ]
  },
  {
   "cell_type": "code",
   "execution_count": 3,
   "id": "117419cc",
   "metadata": {},
   "outputs": [
    {
     "data": {
      "text/plain": [
       "(16290, 3)"
      ]
     },
     "execution_count": 3,
     "metadata": {},
     "output_type": "execute_result"
    }
   ],
   "source": [
    "# размер обучающей выборки\n",
    "df.shape"
   ]
  },
  {
   "cell_type": "code",
   "execution_count": 4,
   "id": "2309b138",
   "metadata": {},
   "outputs": [
    {
     "data": {
      "text/plain": [
       "False"
      ]
     },
     "execution_count": 4,
     "metadata": {},
     "output_type": "execute_result"
    }
   ],
   "source": [
    "# наличие пропусков в данных\n",
    "df.isnull().values.any()"
   ]
  },
  {
   "cell_type": "code",
   "execution_count": 8,
   "id": "e00f570a",
   "metadata": {},
   "outputs": [],
   "source": [
    "# предобработка данных\n",
    "# преобразуем исходные данные в матрицу\n",
    "vectorizer = CountVectorizer(tokenizer = lambda x: x.split(','))\n",
    "V = vectorizer.fit_transform(libs)\n",
    "\n",
    "X_train = V.toarray()\n",
    "y_train = df['is_virus'].to_numpy()"
   ]
  },
  {
   "cell_type": "code",
   "execution_count": 19,
   "id": "ad29c83f",
   "metadata": {},
   "outputs": [
    {
     "data": {
      "text/plain": [
       "0.67"
      ]
     },
     "execution_count": 19,
     "metadata": {},
     "output_type": "execute_result"
    }
   ],
   "source": [
    "# проверим баланс классов в обучающей выборке\n",
    "# доля класса 1\n",
    "round(len(y_train[y_train==1])/len(y_train),2)"
   ]
  },
  {
   "cell_type": "code",
   "execution_count": 20,
   "id": "8ebe8a67",
   "metadata": {},
   "outputs": [
    {
     "data": {
      "text/plain": [
       "0.33"
      ]
     },
     "execution_count": 20,
     "metadata": {},
     "output_type": "execute_result"
    }
   ],
   "source": [
    "# доля класса 0\n",
    "round(len(y_train[y_train==0])/len(y_train),2)"
   ]
  },
  {
   "cell_type": "markdown",
   "id": "61637e31",
   "metadata": {},
   "source": [
    "## Создание и обучение модели"
   ]
  },
  {
   "cell_type": "code",
   "execution_count": 10,
   "id": "a73a18cb",
   "metadata": {},
   "outputs": [],
   "source": [
    "# задание модели\n",
    "classifier = linear_model.SGDClassifier(loss='log',random_state=0,max_iter=200)"
   ]
  },
  {
   "cell_type": "code",
   "execution_count": 11,
   "id": "98290e49",
   "metadata": {},
   "outputs": [
    {
     "data": {
      "text/plain": [
       "SGDClassifier(loss='log', max_iter=200, random_state=0)"
      ]
     },
     "execution_count": 11,
     "metadata": {},
     "output_type": "execute_result"
    }
   ],
   "source": [
    "# обучение модели\n",
    "classifier.fit(X_train,y_train)"
   ]
  },
  {
   "cell_type": "code",
   "execution_count": 12,
   "id": "2d246418",
   "metadata": {},
   "outputs": [
    {
     "data": {
      "text/plain": [
       "0.1285451197053407"
      ]
     },
     "execution_count": 12,
     "metadata": {},
     "output_type": "execute_result"
    }
   ],
   "source": [
    "# вывод средней абсолютной ошибки модели на обучающей выборке\n",
    "metrics.mean_absolute_error(y_train, classifier.predict(X_train))"
   ]
  },
  {
   "cell_type": "code",
   "execution_count": 22,
   "id": "d6517dcb",
   "metadata": {},
   "outputs": [
    {
     "data": {
      "text/plain": [
       "0.67"
      ]
     },
     "execution_count": 22,
     "metadata": {},
     "output_type": "execute_result"
    }
   ],
   "source": [
    "# вывод среднего значения целевой переменной\n",
    "round(np.mean(y_train),2)"
   ]
  },
  {
   "cell_type": "code",
   "execution_count": 17,
   "id": "83f88b51",
   "metadata": {},
   "outputs": [
    {
     "data": {
      "text/plain": [
       "['SGD_Model.joblib']"
      ]
     },
     "execution_count": 17,
     "metadata": {},
     "output_type": "execute_result"
    }
   ],
   "source": [
    "dump(classifier, 'SGD_Model.joblib')"
   ]
  }
 ],
 "metadata": {
  "kernelspec": {
   "display_name": "Python 3",
   "language": "python",
   "name": "python3"
  },
  "language_info": {
   "codemirror_mode": {
    "name": "ipython",
    "version": 3
   },
   "file_extension": ".py",
   "mimetype": "text/x-python",
   "name": "python",
   "nbconvert_exporter": "python",
   "pygments_lexer": "ipython3",
   "version": "3.8.10"
  }
 },
 "nbformat": 4,
 "nbformat_minor": 5
}
